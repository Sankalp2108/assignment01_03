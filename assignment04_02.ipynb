{
 "cells": [
  {
   "cell_type": "code",
   "execution_count": 2,
   "id": "cb7ff51e",
   "metadata": {},
   "outputs": [
    {
     "name": "stdout",
     "output_type": "stream",
     "text": [
      "sample list :  [1, 2, 3, 4, 5, 6, 7]\n",
      "Triple of list numbers: [3, 6, 9, 12, 15, 18, 21]\n"
     ]
    }
   ],
   "source": [
    "\n",
    "x = [1, 2, 3, 4, 5, 6, 7]\n",
    "\n",
    "print(\"sample list : \" , x)\n",
    "print(\"Triple of list numbers:\" ,list(map(lambda a : a * 3 , x)))"
   ]
  }
 ],
 "metadata": {
  "kernelspec": {
   "display_name": "Python 3",
   "language": "python",
   "name": "python3"
  },
  "language_info": {
   "codemirror_mode": {
    "name": "ipython",
    "version": 3
   },
   "file_extension": ".py",
   "mimetype": "text/x-python",
   "name": "python",
   "nbconvert_exporter": "python",
   "pygments_lexer": "ipython3",
   "version": "3.8.8"
  }
 },
 "nbformat": 4,
 "nbformat_minor": 5
}
