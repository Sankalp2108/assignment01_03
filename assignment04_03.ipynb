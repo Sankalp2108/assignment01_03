{
 "cells": [
  {
   "cell_type": "code",
   "execution_count": 2,
   "id": "c7bd9e12",
   "metadata": {},
   "outputs": [
    {
     "name": "stdout",
     "output_type": "stream",
     "text": [
      "Sample list: [4, 5, 2, 9]\n",
      "Square the elements of the list: [16, 25, 4, 81]\n"
     ]
    }
   ],
   "source": [
    "x = [4, 5, 2, 9]\n",
    "\n",
    "print(\"Sample list:\" , x)\n",
    "print(\"Square the elements of the list:\",list(map(lambda a : a**2 , x)))"
   ]
  }
 ],
 "metadata": {
  "kernelspec": {
   "display_name": "Python 3",
   "language": "python",
   "name": "python3"
  },
  "language_info": {
   "codemirror_mode": {
    "name": "ipython",
    "version": 3
   },
   "file_extension": ".py",
   "mimetype": "text/x-python",
   "name": "python",
   "nbconvert_exporter": "python",
   "pygments_lexer": "ipython3",
   "version": "3.8.8"
  }
 },
 "nbformat": 4,
 "nbformat_minor": 5
}
