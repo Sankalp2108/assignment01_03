{
 "cells": [
  {
   "cell_type": "code",
   "execution_count": 10,
   "id": "bc738ac9",
   "metadata": {},
   "outputs": [
    {
     "name": "stdout",
     "output_type": "stream",
     "text": [
      "100\n"
     ]
    }
   ],
   "source": [
    "class py_solution:\n",
    "    \n",
    "    def power(self , x , n):\n",
    "        if x == 0 or n == 1 or x == 1:\n",
    "            return x\n",
    "        \n",
    "        if x==-1:\n",
    "            if n % 2==0:\n",
    "                return 1\n",
    "            else:\n",
    "                return -1\n",
    "            \n",
    "        if n == 0:\n",
    "            return 1\n",
    "        \n",
    "        if n < 0 :\n",
    "            return 1/self.power(x,-n)\n",
    "        value = self.power(x , n//2)\n",
    "        \n",
    "        if n%2==0:\n",
    "            return value * value\n",
    "        return value * value * x\n",
    "    \n",
    "print(py_solution().power(10,2))"
   ]
  }
 ],
 "metadata": {
  "kernelspec": {
   "display_name": "Python 3",
   "language": "python",
   "name": "python3"
  },
  "language_info": {
   "codemirror_mode": {
    "name": "ipython",
    "version": 3
   },
   "file_extension": ".py",
   "mimetype": "text/x-python",
   "name": "python",
   "nbconvert_exporter": "python",
   "pygments_lexer": "ipython3",
   "version": "3.8.8"
  }
 },
 "nbformat": 4,
 "nbformat_minor": 5
}
