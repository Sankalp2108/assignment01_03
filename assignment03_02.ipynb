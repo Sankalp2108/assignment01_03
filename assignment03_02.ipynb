{
 "cells": [
  {
   "cell_type": "code",
   "execution_count": 1,
   "id": "a014585a",
   "metadata": {},
   "outputs": [
    {
     "data": {
      "text/plain": [
       "'dcba4321'"
      ]
     },
     "execution_count": 1,
     "metadata": {},
     "output_type": "execute_result"
    }
   ],
   "source": [
    "def reverse_string(string):\n",
    "    b = \"\"\n",
    "    for i in string:\n",
    "        b = i + b \n",
    "    return b\n",
    "\n",
    "reverse_string(\"1234abcd\")"
   ]
  }
 ],
 "metadata": {
  "kernelspec": {
   "display_name": "Python 3",
   "language": "python",
   "name": "python3"
  },
  "language_info": {
   "codemirror_mode": {
    "name": "ipython",
    "version": 3
   },
   "file_extension": ".py",
   "mimetype": "text/x-python",
   "name": "python",
   "nbconvert_exporter": "python",
   "pygments_lexer": "ipython3",
   "version": "3.8.8"
  }
 },
 "nbformat": 4,
 "nbformat_minor": 5
}
