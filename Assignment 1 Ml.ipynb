{
 "cells": [
  {
   "cell_type": "code",
   "execution_count": 1,
   "id": "1d331c38",
   "metadata": {},
   "outputs": [
    {
     "name": "stdout",
     "output_type": "stream",
     "text": [
      "[0. 0. 0. 0. 1. 0. 0. 0. 0. 0.]\n"
     ]
    }
   ],
   "source": [
    "# 1. Create a null vector of size 10 but the fifth value which is 1.\n",
    "import numpy as np\n",
    "\n",
    "v = np.zeros(10)\n",
    "v[4] = 1\n",
    "print(v)"
   ]
  },
  {
   "cell_type": "code",
   "execution_count": 2,
   "id": "995e4361",
   "metadata": {},
   "outputs": [
    {
     "name": "stdout",
     "output_type": "stream",
     "text": [
      "[10 11 12 13 14 15 16 17 18 19 20 21 22 23 24 25 26 27 28 29 30 31 32 33\n",
      " 34 35 36 37 38 39 40 41 42 43 44 45 46 47 48]\n"
     ]
    }
   ],
   "source": [
    "# 2. Create a vector with values ranging from 10 to 49.\n",
    "\n",
    "v = np.arange(10,49)\n",
    "print(v)"
   ]
  },
  {
   "cell_type": "code",
   "execution_count": 3,
   "id": "d8242a73",
   "metadata": {},
   "outputs": [
    {
     "data": {
      "text/plain": [
       "array([[7, 2, 6],\n",
       "       [6, 4, 6],\n",
       "       [7, 7, 2]])"
      ]
     },
     "execution_count": 3,
     "metadata": {},
     "output_type": "execute_result"
    }
   ],
   "source": [
    "# 3. Create a 3x3 matrix with values ranging from 0 to 8\n",
    "\n",
    "np.random.randint(low = 0 , high=9 , size=(3,3))"
   ]
  },
  {
   "cell_type": "code",
   "execution_count": 4,
   "id": "f6193d69",
   "metadata": {},
   "outputs": [
    {
     "name": "stdout",
     "output_type": "stream",
     "text": [
      "[0, 1, 4]\n"
     ]
    }
   ],
   "source": [
    "# 4. Find indices of non-zero elements from [1,2,0,0,4,0]\n",
    "\n",
    "index = 0\n",
    "list1 = []\n",
    "for i in [1,2,0,0,4,0]:\n",
    "    if i != 0:\n",
    "        list1.append(index)\n",
    "    index += 1\n",
    "    \n",
    "print(list1)"
   ]
  },
  {
   "cell_type": "code",
   "execution_count": 5,
   "id": "4c22f690",
   "metadata": {},
   "outputs": [
    {
     "name": "stdout",
     "output_type": "stream",
     "text": [
      "Minimum Value in b :  1\n",
      "Maximum Value in b :  99\n"
     ]
    }
   ],
   "source": [
    "# 5. Create a 10x10 array with random values and find the minimum and maximum values.\n",
    "\n",
    "b = np.random.randint(100 , size=(10,10))\n",
    "print(\"Minimum Value in b : \" , b.min())\n",
    "print(\"Maximum Value in b : \" , b.max())"
   ]
  },
  {
   "cell_type": "code",
   "execution_count": 6,
   "id": "a0aec1d3",
   "metadata": {},
   "outputs": [
    {
     "name": "stdout",
     "output_type": "stream",
     "text": [
      "[0.46279245 0.74140497 0.44509767 0.08676143 0.96017463 0.39759321\n",
      " 0.22138013 0.22391173 0.89222427 0.98614559 0.27004516 0.06411831\n",
      " 0.61994125 0.32000618 0.55608337 0.596356   0.17844347 0.29849852\n",
      " 0.60483178 0.3068365  0.62482932 0.01025573 0.19668226 0.49075157\n",
      " 0.72628944 0.69458969 0.1006521  0.42201564 0.82421905 0.24635096]\n",
      "Mean :  0.4523094121369224\n"
     ]
    }
   ],
   "source": [
    "# 6. Create a random vector of size 30 and find the mean value.\n",
    "\n",
    "a = np.random.random(30)\n",
    "print(a)\n",
    "print(\"Mean : \" ,a.mean())"
   ]
  }
 ],
 "metadata": {
  "kernelspec": {
   "display_name": "Python 3",
   "language": "python",
   "name": "python3"
  },
  "language_info": {
   "codemirror_mode": {
    "name": "ipython",
    "version": 3
   },
   "file_extension": ".py",
   "mimetype": "text/x-python",
   "name": "python",
   "nbconvert_exporter": "python",
   "pygments_lexer": "ipython3",
   "version": "3.8.8"
  }
 },
 "nbformat": 4,
 "nbformat_minor": 5
}
