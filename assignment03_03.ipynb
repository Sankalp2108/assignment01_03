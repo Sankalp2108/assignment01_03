{
 "cells": [
  {
   "cell_type": "code",
   "execution_count": 5,
   "id": "3dd9a827",
   "metadata": {},
   "outputs": [
    {
     "name": "stdout",
     "output_type": "stream",
     "text": [
      "No. of Upper case characters :  3\n",
      "No. of Lower case characters :  12\n"
     ]
    }
   ],
   "source": [
    "def calculate_latter(string):\n",
    "    d = {'Upper' : 0 , 'Lower' : 0}\n",
    "    for i in string:\n",
    "        if i.isupper():\n",
    "            d['Upper'] += 1\n",
    "        elif i.islower():\n",
    "            d['Lower'] += 1\n",
    "        else:\n",
    "            pass\n",
    "\n",
    "calculate_latter('The quick Brow Fox')\n",
    "print(\"No. of Upper case characters : \" , d['Upper'])\n",
    "print(\"No. of Lower case characters : \" , d['Lower'])"
   ]
  }
 ],
 "metadata": {
  "kernelspec": {
   "display_name": "Python 3",
   "language": "python",
   "name": "python3"
  },
  "language_info": {
   "codemirror_mode": {
    "name": "ipython",
    "version": 3
   },
   "file_extension": ".py",
   "mimetype": "text/x-python",
   "name": "python",
   "nbconvert_exporter": "python",
   "pygments_lexer": "ipython3",
   "version": "3.8.8"
  }
 },
 "nbformat": 4,
 "nbformat_minor": 5
}
