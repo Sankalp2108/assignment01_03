{
 "cells": [
  {
   "cell_type": "markdown",
   "id": "2878efd5",
   "metadata": {},
   "source": [
    "# Implement Binary Search"
   ]
  },
  {
   "cell_type": "code",
   "execution_count": 3,
   "id": "8e4fb11c",
   "metadata": {},
   "outputs": [
    {
     "name": "stdout",
     "output_type": "stream",
     "text": [
      "6\n"
     ]
    }
   ],
   "source": [
    "\n",
    "def binary_search(A , low , high , key):\n",
    "    if high >= low:\n",
    "        mid = low + (high - low)//2\n",
    "        if A[mid] == key:\n",
    "            return mid\n",
    "        elif key > A[mid]:\n",
    "            return binary_search(A,mid+1,high,key)\n",
    "        else:\n",
    "            return binary_search(A,low,mid-1,key)\n",
    "    else:\n",
    "        return \"Not found\"\n",
    "    \n",
    "A = [12,23,34,56,76,89,121,342,456,786]\n",
    "key = 121\n",
    "index = binary_search(A , 0 , len(A)-1 , key)\n",
    "print(index)"
   ]
  },
  {
   "cell_type": "markdown",
   "id": "b6a141c3",
   "metadata": {},
   "source": [
    "# Implement Merge Sort"
   ]
  },
  {
   "cell_type": "code",
   "execution_count": 8,
   "id": "62ac6c66",
   "metadata": {},
   "outputs": [
    {
     "name": "stdout",
     "output_type": "stream",
     "text": [
      "[3, 7, 8, 10, 15, 23, 29, 98]\n"
     ]
    }
   ],
   "source": [
    "def  merge_sort(arr):\n",
    "    \n",
    "    if len(arr) <= 1:\n",
    "        return arr\n",
    "    \n",
    "    mid = len(arr)//2\n",
    "    left = arr[:mid]\n",
    "    right = arr[mid:]\n",
    "    \n",
    "    merge_sort(left)\n",
    "    merge_sort(right)\n",
    "    \n",
    "    merge_two_sorted_list(left , right , arr)\n",
    "\n",
    "\n",
    "\n",
    "def merge_two_sorted_list(a,b ,arr):\n",
    "    len_a = len(a)\n",
    "    len_b = len(b)\n",
    "    i = j = k = 0\n",
    "    \n",
    "    while i < len(a) and j < len(b):\n",
    "        if a[i] <= b[j]:\n",
    "            arr[k] = a[i]\n",
    "            i += 1\n",
    "        else:\n",
    "            arr[k] = b[j]\n",
    "            j += 1\n",
    "        k += 1\n",
    "            \n",
    "    while i < len_a:\n",
    "        arr[k] = a[i]\n",
    "        i += 1\n",
    "        k += 1\n",
    "    while j < len_b:\n",
    "        arr[k] = b[j]\n",
    "        j += 1\n",
    "        k += 1\n",
    "\n",
    "\n",
    "if __name__ == '__main__':\n",
    "    arr = [10,3,15,7,8,23,98,29]\n",
    "    merge_sort(arr)\n",
    "    print(arr)"
   ]
  },
  {
   "cell_type": "markdown",
   "id": "0bd123e9",
   "metadata": {},
   "source": [
    "# Implement Quick Sort"
   ]
  },
  {
   "cell_type": "code",
   "execution_count": 5,
   "id": "a135486b",
   "metadata": {},
   "outputs": [
    {
     "name": "stdout",
     "output_type": "stream",
     "text": [
      "[12, 23, 34, 43, 67, 46, 13, 90]\n"
     ]
    }
   ],
   "source": [
    "\n",
    "def partion(A , l , r):\n",
    "    x = A[l]\n",
    "    j = l\n",
    "    \n",
    "    for i in range(l+1 , r+1):\n",
    "        if A[i] <= x:\n",
    "            A[j] , A[i] = A[i] , A[j]\n",
    "        A[l],A[j] = A[j] , A[l]\n",
    "        return j\n",
    "    \n",
    "def quicksort(A , l , r):\n",
    "    if l >= r:\n",
    "        return \n",
    "    m = partion(A,l,r)\n",
    "    quicksort(A,l,m-1)\n",
    "    quicksort(A,m+1,r)\n",
    "    \n",
    "A = [23,12,43,34,90,67,46,13]\n",
    "quicksort(A,0 , len(A)-1)\n",
    "print(A)"
   ]
  },
  {
   "cell_type": "markdown",
   "id": "c926d00b",
   "metadata": {},
   "source": [
    "# Implement Insertion Sort"
   ]
  },
  {
   "cell_type": "code",
   "execution_count": 7,
   "id": "db00bc5a",
   "metadata": {},
   "outputs": [
    {
     "name": "stdout",
     "output_type": "stream",
     "text": [
      "[2, 7, 9, 11, 15, 28, 29]\n"
     ]
    }
   ],
   "source": [
    "def insertion_sort(elements):\n",
    "    \n",
    "    for i in range(1,len(elements)):\n",
    "        anchor = elements[i]\n",
    "        j = i - 1 \n",
    "        \n",
    "        while j >=0 and anchor < elements[j]:\n",
    "            elements[j+1] = elements[j]\n",
    "            j = j-1\n",
    "        elements[j+1] = anchor\n",
    "        \n",
    "if __name__ == '__main__':\n",
    "    elements = [11,9,29,7,2,15,28]\n",
    "    insertion_sort(elements)\n",
    "    print(elements)"
   ]
  },
  {
   "cell_type": "markdown",
   "id": "cb1a33ef",
   "metadata": {},
   "source": [
    "# Write a program to sort list of strings "
   ]
  },
  {
   "cell_type": "code",
   "execution_count": 6,
   "id": "3ee3b69c",
   "metadata": {},
   "outputs": [
    {
     "name": "stdout",
     "output_type": "stream",
     "text": [
      "is\n",
      "luffy\n",
      "my\n",
      "name\n"
     ]
    }
   ],
   "source": [
    "\n",
    "list1 = [\"my\" , \"name\" ,\"is\" ,\"luffy\"]\n",
    "\n",
    "for ele in sorted(list1):\n",
    "    print(ele)"
   ]
  }
 ],
 "metadata": {
  "kernelspec": {
   "display_name": "Python 3",
   "language": "python",
   "name": "python3"
  },
  "language_info": {
   "codemirror_mode": {
    "name": "ipython",
    "version": 3
   },
   "file_extension": ".py",
   "mimetype": "text/x-python",
   "name": "python",
   "nbconvert_exporter": "python",
   "pygments_lexer": "ipython3",
   "version": "3.8.8"
  }
 },
 "nbformat": 4,
 "nbformat_minor": 5
}
